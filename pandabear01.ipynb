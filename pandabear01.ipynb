{
 "cells": [
  {
   "cell_type": "code",
   "execution_count": 3,
   "id": "3f6bd9a7-3910-4218-9bc7-ef0bda41989c",
   "metadata": {},
   "outputs": [],
   "source": [
    "heroes= {\n",
    "   \"name\": [\"Wonder Woman\", \"Batman\", \"Superman\"],\n",
    "   \"alterego\": [\"Diana Prince\", \"Bruce Wayne\", \"Clark Kent\"],\n",
    "   \"power\": [\"lasso of truth\", \"money\", \"super strength\"]\n",
    "}"
   ]
  },
  {
   "cell_type": "code",
   "execution_count": 7,
   "id": "78e6ad8b-9a3a-4b85-8a5e-382957a19090",
   "metadata": {},
   "outputs": [],
   "source": [
    "import pandas as pd\n",
    "\n",
    "herodf= pd.DataFrame(heroes)\n"
   ]
  },
  {
   "cell_type": "code",
   "execution_count": 8,
   "id": "78a85885-9e51-438e-9569-eea1915a8499",
   "metadata": {},
   "outputs": [
    {
     "data": {
      "text/html": [
       "<div>\n",
       "<style scoped>\n",
       "    .dataframe tbody tr th:only-of-type {\n",
       "        vertical-align: middle;\n",
       "    }\n",
       "\n",
       "    .dataframe tbody tr th {\n",
       "        vertical-align: top;\n",
       "    }\n",
       "\n",
       "    .dataframe thead th {\n",
       "        text-align: right;\n",
       "    }\n",
       "</style>\n",
       "<table border=\"1\" class=\"dataframe\">\n",
       "  <thead>\n",
       "    <tr style=\"text-align: right;\">\n",
       "      <th></th>\n",
       "      <th>name</th>\n",
       "      <th>alterego</th>\n",
       "      <th>power</th>\n",
       "    </tr>\n",
       "  </thead>\n",
       "  <tbody>\n",
       "    <tr>\n",
       "      <th>0</th>\n",
       "      <td>Wonder Woman</td>\n",
       "      <td>Diana Prince</td>\n",
       "      <td>lasso of truth</td>\n",
       "    </tr>\n",
       "    <tr>\n",
       "      <th>1</th>\n",
       "      <td>Batman</td>\n",
       "      <td>Bruce Wayne</td>\n",
       "      <td>money</td>\n",
       "    </tr>\n",
       "    <tr>\n",
       "      <th>2</th>\n",
       "      <td>Superman</td>\n",
       "      <td>Clark Kent</td>\n",
       "      <td>super strength</td>\n",
       "    </tr>\n",
       "  </tbody>\n",
       "</table>\n",
       "</div>"
      ],
      "text/plain": [
       "           name      alterego           power\n",
       "0  Wonder Woman  Diana Prince  lasso of truth\n",
       "1        Batman   Bruce Wayne           money\n",
       "2      Superman    Clark Kent  super strength"
      ]
     },
     "execution_count": 8,
     "metadata": {},
     "output_type": "execute_result"
    }
   ],
   "source": [
    "(herodf)"
   ]
  },
  {
   "cell_type": "code",
   "execution_count": 9,
   "id": "318bdd8b-c85e-4c0c-979d-0030d8d5f5c1",
   "metadata": {},
   "outputs": [
    {
     "data": {
      "text/plain": [
       "0    lasso of truth\n",
       "1             money\n",
       "2    super strength\n",
       "Name: power, dtype: object"
      ]
     },
     "execution_count": 9,
     "metadata": {},
     "output_type": "execute_result"
    }
   ],
   "source": [
    "herodf[\"power\"]"
   ]
  },
  {
   "cell_type": "code",
   "execution_count": 10,
   "id": "dd365a61-0a29-4f8b-b2d4-35c75b798f29",
   "metadata": {},
   "outputs": [
    {
     "data": {
      "text/plain": [
       "0    lasso of truth\n",
       "1             money\n",
       "2    super strength\n",
       "Name: power, dtype: object"
      ]
     },
     "execution_count": 10,
     "metadata": {},
     "output_type": "execute_result"
    }
   ],
   "source": [
    "(herodf[\"power\"])"
   ]
  },
  {
   "cell_type": "code",
   "execution_count": 11,
   "id": "df474d38-eba5-4630-80b6-533cdc1a47b6",
   "metadata": {},
   "outputs": [
    {
     "data": {
      "text/html": [
       "<div>\n",
       "<style scoped>\n",
       "    .dataframe tbody tr th:only-of-type {\n",
       "        vertical-align: middle;\n",
       "    }\n",
       "\n",
       "    .dataframe tbody tr th {\n",
       "        vertical-align: top;\n",
       "    }\n",
       "\n",
       "    .dataframe thead th {\n",
       "        text-align: right;\n",
       "    }\n",
       "</style>\n",
       "<table border=\"1\" class=\"dataframe\">\n",
       "  <thead>\n",
       "    <tr style=\"text-align: right;\">\n",
       "      <th></th>\n",
       "      <th>name</th>\n",
       "      <th>alterego</th>\n",
       "    </tr>\n",
       "  </thead>\n",
       "  <tbody>\n",
       "    <tr>\n",
       "      <th>0</th>\n",
       "      <td>Wonder Woman</td>\n",
       "      <td>Diana Prince</td>\n",
       "    </tr>\n",
       "    <tr>\n",
       "      <th>1</th>\n",
       "      <td>Batman</td>\n",
       "      <td>Bruce Wayne</td>\n",
       "    </tr>\n",
       "    <tr>\n",
       "      <th>2</th>\n",
       "      <td>Superman</td>\n",
       "      <td>Clark Kent</td>\n",
       "    </tr>\n",
       "  </tbody>\n",
       "</table>\n",
       "</div>"
      ],
      "text/plain": [
       "           name      alterego\n",
       "0  Wonder Woman  Diana Prince\n",
       "1        Batman   Bruce Wayne\n",
       "2      Superman    Clark Kent"
      ]
     },
     "execution_count": 11,
     "metadata": {},
     "output_type": "execute_result"
    }
   ],
   "source": [
    "(herodf[[\"name\", \"alterego\"]])"
   ]
  },
  {
   "cell_type": "code",
   "execution_count": 12,
   "id": "77a1dcfe-5865-42d1-a624-c17b5670c524",
   "metadata": {},
   "outputs": [
    {
     "data": {
      "text/html": [
       "<div>\n",
       "<style scoped>\n",
       "    .dataframe tbody tr th:only-of-type {\n",
       "        vertical-align: middle;\n",
       "    }\n",
       "\n",
       "    .dataframe tbody tr th {\n",
       "        vertical-align: top;\n",
       "    }\n",
       "\n",
       "    .dataframe thead th {\n",
       "        text-align: right;\n",
       "    }\n",
       "</style>\n",
       "<table border=\"1\" class=\"dataframe\">\n",
       "  <thead>\n",
       "    <tr style=\"text-align: right;\">\n",
       "      <th></th>\n",
       "      <th>name</th>\n",
       "      <th>alterego</th>\n",
       "      <th>power</th>\n",
       "    </tr>\n",
       "  </thead>\n",
       "  <tbody>\n",
       "    <tr>\n",
       "      <th>1</th>\n",
       "      <td>Batman</td>\n",
       "      <td>Bruce Wayne</td>\n",
       "      <td>money</td>\n",
       "    </tr>\n",
       "    <tr>\n",
       "      <th>2</th>\n",
       "      <td>Superman</td>\n",
       "      <td>Clark Kent</td>\n",
       "      <td>super strength</td>\n",
       "    </tr>\n",
       "  </tbody>\n",
       "</table>\n",
       "</div>"
      ],
      "text/plain": [
       "       name     alterego           power\n",
       "1    Batman  Bruce Wayne           money\n",
       "2  Superman   Clark Kent  super strength"
      ]
     },
     "execution_count": 12,
     "metadata": {},
     "output_type": "execute_result"
    }
   ],
   "source": [
    "herodf.iloc[[1,2]]"
   ]
  },
  {
   "cell_type": "code",
   "execution_count": 13,
   "id": "51891b7f-9e47-4f8b-b67d-26d6d9a8e0fa",
   "metadata": {},
   "outputs": [
    {
     "data": {
      "text/html": [
       "<div>\n",
       "<style scoped>\n",
       "    .dataframe tbody tr th:only-of-type {\n",
       "        vertical-align: middle;\n",
       "    }\n",
       "\n",
       "    .dataframe tbody tr th {\n",
       "        vertical-align: top;\n",
       "    }\n",
       "\n",
       "    .dataframe thead th {\n",
       "        text-align: right;\n",
       "    }\n",
       "</style>\n",
       "<table border=\"1\" class=\"dataframe\">\n",
       "  <thead>\n",
       "    <tr style=\"text-align: right;\">\n",
       "      <th></th>\n",
       "      <th>name</th>\n",
       "      <th>alterego</th>\n",
       "      <th>power</th>\n",
       "    </tr>\n",
       "  </thead>\n",
       "  <tbody>\n",
       "    <tr>\n",
       "      <th>1</th>\n",
       "      <td>Batman</td>\n",
       "      <td>Bruce Wayne</td>\n",
       "      <td>money</td>\n",
       "    </tr>\n",
       "    <tr>\n",
       "      <th>2</th>\n",
       "      <td>Superman</td>\n",
       "      <td>Clark Kent</td>\n",
       "      <td>super strength</td>\n",
       "    </tr>\n",
       "  </tbody>\n",
       "</table>\n",
       "</div>"
      ],
      "text/plain": [
       "       name     alterego           power\n",
       "1    Batman  Bruce Wayne           money\n",
       "2  Superman   Clark Kent  super strength"
      ]
     },
     "execution_count": 13,
     "metadata": {},
     "output_type": "execute_result"
    }
   ],
   "source": [
    "herodf.iloc[[1,2]]\n"
   ]
  },
  {
   "cell_type": "code",
   "execution_count": 14,
   "id": "0952c553-d2fb-4b49-b5f7-6edb02c3bc5e",
   "metadata": {},
   "outputs": [
    {
     "data": {
      "text/plain": [
       "1             money\n",
       "2    super strength\n",
       "Name: power, dtype: object"
      ]
     },
     "execution_count": 14,
     "metadata": {},
     "output_type": "execute_result"
    }
   ],
   "source": [
    "herodf.iloc[[1,2] ,2]"
   ]
  },
  {
   "cell_type": "code",
   "execution_count": 15,
   "id": "d66465f5-f412-4e1a-b804-f6bbf94aa566",
   "metadata": {},
   "outputs": [
    {
     "data": {
      "text/html": [
       "<div>\n",
       "<style scoped>\n",
       "    .dataframe tbody tr th:only-of-type {\n",
       "        vertical-align: middle;\n",
       "    }\n",
       "\n",
       "    .dataframe tbody tr th {\n",
       "        vertical-align: top;\n",
       "    }\n",
       "\n",
       "    .dataframe thead th {\n",
       "        text-align: right;\n",
       "    }\n",
       "</style>\n",
       "<table border=\"1\" class=\"dataframe\">\n",
       "  <thead>\n",
       "    <tr style=\"text-align: right;\">\n",
       "      <th></th>\n",
       "      <th>alterego</th>\n",
       "      <th>power</th>\n",
       "    </tr>\n",
       "    <tr>\n",
       "      <th>name</th>\n",
       "      <th></th>\n",
       "      <th></th>\n",
       "    </tr>\n",
       "  </thead>\n",
       "  <tbody>\n",
       "    <tr>\n",
       "      <th>Wonder Woman</th>\n",
       "      <td>Diana Prince</td>\n",
       "      <td>lasso of truth</td>\n",
       "    </tr>\n",
       "    <tr>\n",
       "      <th>Batman</th>\n",
       "      <td>Bruce Wayne</td>\n",
       "      <td>money</td>\n",
       "    </tr>\n",
       "    <tr>\n",
       "      <th>Superman</th>\n",
       "      <td>Clark Kent</td>\n",
       "      <td>super strength</td>\n",
       "    </tr>\n",
       "  </tbody>\n",
       "</table>\n",
       "</div>"
      ],
      "text/plain": [
       "                  alterego           power\n",
       "name                                      \n",
       "Wonder Woman  Diana Prince  lasso of truth\n",
       "Batman         Bruce Wayne           money\n",
       "Superman        Clark Kent  super strength"
      ]
     },
     "execution_count": 15,
     "metadata": {},
     "output_type": "execute_result"
    }
   ],
   "source": [
    "herodf= herodf.set_index(\"name\")\n",
    "herodf"
   ]
  },
  {
   "cell_type": "code",
   "execution_count": 16,
   "id": "d05bdddc-0105-4781-b7c1-9273848e8e4c",
   "metadata": {},
   "outputs": [
    {
     "data": {
      "text/html": [
       "<div>\n",
       "<style scoped>\n",
       "    .dataframe tbody tr th:only-of-type {\n",
       "        vertical-align: middle;\n",
       "    }\n",
       "\n",
       "    .dataframe tbody tr th {\n",
       "        vertical-align: top;\n",
       "    }\n",
       "\n",
       "    .dataframe thead th {\n",
       "        text-align: right;\n",
       "    }\n",
       "</style>\n",
       "<table border=\"1\" class=\"dataframe\">\n",
       "  <thead>\n",
       "    <tr style=\"text-align: right;\">\n",
       "      <th></th>\n",
       "      <th>alterego</th>\n",
       "      <th>power</th>\n",
       "    </tr>\n",
       "    <tr>\n",
       "      <th>name</th>\n",
       "      <th></th>\n",
       "      <th></th>\n",
       "    </tr>\n",
       "  </thead>\n",
       "  <tbody>\n",
       "    <tr>\n",
       "      <th>Wonder Woman</th>\n",
       "      <td>Diana Prince</td>\n",
       "      <td>lasso of truth</td>\n",
       "    </tr>\n",
       "    <tr>\n",
       "      <th>Batman</th>\n",
       "      <td>Bruce Wayne</td>\n",
       "      <td>money</td>\n",
       "    </tr>\n",
       "    <tr>\n",
       "      <th>Superman</th>\n",
       "      <td>Clark Kent</td>\n",
       "      <td>super strength</td>\n",
       "    </tr>\n",
       "  </tbody>\n",
       "</table>\n",
       "</div>"
      ],
      "text/plain": [
       "                  alterego           power\n",
       "name                                      \n",
       "Wonder Woman  Diana Prince  lasso of truth\n",
       "Batman         Bruce Wayne           money\n",
       "Superman        Clark Kent  super strength"
      ]
     },
     "execution_count": 16,
     "metadata": {},
     "output_type": "execute_result"
    }
   ],
   "source": [
    "herodf.loc[[\"Wonder Woman\", \"Superman\"], \"power\"]\n",
    "herodf"
   ]
  },
  {
   "cell_type": "code",
   "execution_count": null,
   "id": "53e19eed-d9b5-42c5-afd5-7f6d16936977",
   "metadata": {},
   "outputs": [],
   "source": []
  }
 ],
 "metadata": {
  "kernelspec": {
   "display_name": "Python 3 (ipykernel)",
   "language": "python",
   "name": "python3"
  },
  "language_info": {
   "codemirror_mode": {
    "name": "ipython",
    "version": 3
   },
   "file_extension": ".py",
   "mimetype": "text/x-python",
   "name": "python",
   "nbconvert_exporter": "python",
   "pygments_lexer": "ipython3",
   "version": "3.10.6"
  }
 },
 "nbformat": 4,
 "nbformat_minor": 5
}
