{
 "cells": [
  {
   "cell_type": "code",
   "execution_count": 4,
   "id": "2c1a4ba3-901d-4db0-b317-d116bc355b77",
   "metadata": {},
   "outputs": [
    {
     "ename": "SyntaxError",
     "evalue": "unterminated string literal (detected at line 3) (2064875659.py, line 3)",
     "output_type": "error",
     "traceback": [
      "\u001b[0;36m  Cell \u001b[0;32mIn [4], line 3\u001b[0;36m\u001b[0m\n\u001b[0;31m    data= pd.read_csv(\"from matplotlib import pyplot as plt\u001b[0m\n\u001b[0m                      ^\u001b[0m\n\u001b[0;31mSyntaxError\u001b[0m\u001b[0;31m:\u001b[0m unterminated string literal (detected at line 3)\n"
     ]
    }
   ],
   "source": [
    "from matplotlib import pyplot as plt\n",
    "import pandas as pd\n",
    "data= pd.read_csv(\"from matplotlib import pyplot as plt\n",
    "import pandas as pd\n",
    "data= pd.read_csv(\"annualcheeseconsumed.txt\")\n",
    "year= data[\"Year\"] # pandas SERIES\n",
    "cheddar= data[\"Cheddar\"]\n",
    "swiss= data[\"Swiss\"]\n",
    "# adding two different pieces of data to the plot\n",
    "plt.plot(year, cheddar, label=\"Avg. Cheddar Consumed\")\n",
    "plt.plot(year, swiss, label=\"Avg. Swiss Consumed\")\n",
    "plt.legend()\n",
    "plt.grid()\n",
    "plt.xlabel(\"Year\")\n",
    "plt.ylabel(\"Cheese Consumed in Pounds Per Year\")\n",
    "plt.title(\"AMERICANS LOVE CHEESE!\")\n",
    "plt.show()\")\n",
    "year= data[\"Year\"] # pandas SERIES\n",
    "cheddar= data[\"American\"]\n",
    "swiss= data[\"Swiss\"]\n",
    "# adding two different pieces of data to the plot\n",
    "plt.plot(year, cheddar, label=\"Avg. American Consumed\")\n",
    "plt.plot(year, swiss, label=\"Avg. Swiss Consumed\")\n",
    "plt.legend()\n",
    "plt.grid()\n",
    "plt.xlabel(\"Year\")\n",
    "plt.ylabel(\"Cheese Consumed in Pounds Per Year\")\n",
    "plt.title(\"AMERICANS LOVE CHEESE!\")\n",
    "plt.show()"
   ]
  },
  {
   "cell_type": "code",
   "execution_count": null,
   "id": "54642351-50d6-48bf-9fe8-c6855f64bc0d",
   "metadata": {},
   "outputs": [],
   "source": []
  }
 ],
 "metadata": {
  "kernelspec": {
   "display_name": "Python 3 (ipykernel)",
   "language": "python",
   "name": "python3"
  },
  "language_info": {
   "codemirror_mode": {
    "name": "ipython",
    "version": 3
   },
   "file_extension": ".py",
   "mimetype": "text/x-python",
   "name": "python",
   "nbconvert_exporter": "python",
   "pygments_lexer": "ipython3",
   "version": "3.10.6"
  }
 },
 "nbformat": 4,
 "nbformat_minor": 5
}
