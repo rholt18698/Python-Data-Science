{
 "cells": [
  {
   "cell_type": "code",
   "execution_count": 1,
   "id": "081463e7-4d33-433e-bc12-55dd96cab5b1",
   "metadata": {},
   "outputs": [],
   "source": [
    "import pandas as pd\n",
    "import numpy as np\n"
   ]
  },
  {
   "cell_type": "code",
   "execution_count": 2,
   "id": "eccf2e91-3125-4ca9-827b-ab50f6be9aa2",
   "metadata": {},
   "outputs": [
    {
     "data": {
      "text/html": [
       "<div>\n",
       "<style scoped>\n",
       "    .dataframe tbody tr th:only-of-type {\n",
       "        vertical-align: middle;\n",
       "    }\n",
       "\n",
       "    .dataframe tbody tr th {\n",
       "        vertical-align: top;\n",
       "    }\n",
       "\n",
       "    .dataframe thead th {\n",
       "        text-align: right;\n",
       "    }\n",
       "</style>\n",
       "<table border=\"1\" class=\"dataframe\">\n",
       "  <thead>\n",
       "    <tr style=\"text-align: right;\">\n",
       "      <th></th>\n",
       "      <th>Identifier</th>\n",
       "      <th>Edition Statement</th>\n",
       "      <th>Place of Publication</th>\n",
       "      <th>Date of Publication</th>\n",
       "      <th>Publisher</th>\n",
       "      <th>Title</th>\n",
       "      <th>Author</th>\n",
       "      <th>Contributors</th>\n",
       "      <th>Corporate Author</th>\n",
       "      <th>Corporate Contributors</th>\n",
       "      <th>Former owner</th>\n",
       "      <th>Engraver</th>\n",
       "      <th>Issuance type</th>\n",
       "      <th>Flickr URL</th>\n",
       "      <th>Shelfmarks</th>\n",
       "    </tr>\n",
       "  </thead>\n",
       "  <tbody>\n",
       "    <tr>\n",
       "      <th>0</th>\n",
       "      <td>206</td>\n",
       "      <td>NaN</td>\n",
       "      <td>London</td>\n",
       "      <td>1879 [1878]</td>\n",
       "      <td>S. Tinsley &amp; Co.</td>\n",
       "      <td>Walter Forbes. [A novel.] By A. A</td>\n",
       "      <td>A. A.</td>\n",
       "      <td>FORBES, Walter.</td>\n",
       "      <td>NaN</td>\n",
       "      <td>NaN</td>\n",
       "      <td>NaN</td>\n",
       "      <td>NaN</td>\n",
       "      <td>monographic</td>\n",
       "      <td>http://www.flickr.com/photos/britishlibrary/ta...</td>\n",
       "      <td>British Library HMNTS 12641.b.30.</td>\n",
       "    </tr>\n",
       "    <tr>\n",
       "      <th>1</th>\n",
       "      <td>216</td>\n",
       "      <td>NaN</td>\n",
       "      <td>London; Virtue &amp; Yorston</td>\n",
       "      <td>1868</td>\n",
       "      <td>Virtue &amp; Co.</td>\n",
       "      <td>All for Greed. [A novel. The dedication signed...</td>\n",
       "      <td>A., A. A.</td>\n",
       "      <td>BLAZE DE BURY, Marie Pauline Rose - Baroness</td>\n",
       "      <td>NaN</td>\n",
       "      <td>NaN</td>\n",
       "      <td>NaN</td>\n",
       "      <td>NaN</td>\n",
       "      <td>monographic</td>\n",
       "      <td>http://www.flickr.com/photos/britishlibrary/ta...</td>\n",
       "      <td>British Library HMNTS 12626.cc.2.</td>\n",
       "    </tr>\n",
       "    <tr>\n",
       "      <th>2</th>\n",
       "      <td>218</td>\n",
       "      <td>NaN</td>\n",
       "      <td>London</td>\n",
       "      <td>1869</td>\n",
       "      <td>Bradbury, Evans &amp; Co.</td>\n",
       "      <td>Love the Avenger. By the author of “All for Gr...</td>\n",
       "      <td>A., A. A.</td>\n",
       "      <td>BLAZE DE BURY, Marie Pauline Rose - Baroness</td>\n",
       "      <td>NaN</td>\n",
       "      <td>NaN</td>\n",
       "      <td>NaN</td>\n",
       "      <td>NaN</td>\n",
       "      <td>monographic</td>\n",
       "      <td>http://www.flickr.com/photos/britishlibrary/ta...</td>\n",
       "      <td>British Library HMNTS 12625.dd.1.</td>\n",
       "    </tr>\n",
       "    <tr>\n",
       "      <th>3</th>\n",
       "      <td>472</td>\n",
       "      <td>NaN</td>\n",
       "      <td>London</td>\n",
       "      <td>1851</td>\n",
       "      <td>James Darling</td>\n",
       "      <td>Welsh Sketches, chiefly ecclesiastical, to the...</td>\n",
       "      <td>A., E. S.</td>\n",
       "      <td>Appleyard, Ernest Silvanus.</td>\n",
       "      <td>NaN</td>\n",
       "      <td>NaN</td>\n",
       "      <td>NaN</td>\n",
       "      <td>NaN</td>\n",
       "      <td>monographic</td>\n",
       "      <td>http://www.flickr.com/photos/britishlibrary/ta...</td>\n",
       "      <td>British Library HMNTS 10369.bbb.15.</td>\n",
       "    </tr>\n",
       "    <tr>\n",
       "      <th>4</th>\n",
       "      <td>480</td>\n",
       "      <td>A new edition, revised, etc.</td>\n",
       "      <td>London</td>\n",
       "      <td>1857</td>\n",
       "      <td>Wertheim &amp; Macintosh</td>\n",
       "      <td>[The World in which I live, and my place in it...</td>\n",
       "      <td>A., E. S.</td>\n",
       "      <td>BROOME, John Henry.</td>\n",
       "      <td>NaN</td>\n",
       "      <td>NaN</td>\n",
       "      <td>NaN</td>\n",
       "      <td>NaN</td>\n",
       "      <td>monographic</td>\n",
       "      <td>http://www.flickr.com/photos/britishlibrary/ta...</td>\n",
       "      <td>British Library HMNTS 9007.d.28.</td>\n",
       "    </tr>\n",
       "  </tbody>\n",
       "</table>\n",
       "</div>"
      ],
      "text/plain": [
       "   Identifier             Edition Statement      Place of Publication  \\\n",
       "0         206                           NaN                    London   \n",
       "1         216                           NaN  London; Virtue & Yorston   \n",
       "2         218                           NaN                    London   \n",
       "3         472                           NaN                    London   \n",
       "4         480  A new edition, revised, etc.                    London   \n",
       "\n",
       "  Date of Publication              Publisher  \\\n",
       "0         1879 [1878]       S. Tinsley & Co.   \n",
       "1                1868           Virtue & Co.   \n",
       "2                1869  Bradbury, Evans & Co.   \n",
       "3                1851          James Darling   \n",
       "4                1857   Wertheim & Macintosh   \n",
       "\n",
       "                                               Title     Author  \\\n",
       "0                  Walter Forbes. [A novel.] By A. A      A. A.   \n",
       "1  All for Greed. [A novel. The dedication signed...  A., A. A.   \n",
       "2  Love the Avenger. By the author of “All for Gr...  A., A. A.   \n",
       "3  Welsh Sketches, chiefly ecclesiastical, to the...  A., E. S.   \n",
       "4  [The World in which I live, and my place in it...  A., E. S.   \n",
       "\n",
       "                                   Contributors  Corporate Author  \\\n",
       "0                               FORBES, Walter.               NaN   \n",
       "1  BLAZE DE BURY, Marie Pauline Rose - Baroness               NaN   \n",
       "2  BLAZE DE BURY, Marie Pauline Rose - Baroness               NaN   \n",
       "3                   Appleyard, Ernest Silvanus.               NaN   \n",
       "4                           BROOME, John Henry.               NaN   \n",
       "\n",
       "   Corporate Contributors Former owner  Engraver Issuance type  \\\n",
       "0                     NaN          NaN       NaN   monographic   \n",
       "1                     NaN          NaN       NaN   monographic   \n",
       "2                     NaN          NaN       NaN   monographic   \n",
       "3                     NaN          NaN       NaN   monographic   \n",
       "4                     NaN          NaN       NaN   monographic   \n",
       "\n",
       "                                          Flickr URL  \\\n",
       "0  http://www.flickr.com/photos/britishlibrary/ta...   \n",
       "1  http://www.flickr.com/photos/britishlibrary/ta...   \n",
       "2  http://www.flickr.com/photos/britishlibrary/ta...   \n",
       "3  http://www.flickr.com/photos/britishlibrary/ta...   \n",
       "4  http://www.flickr.com/photos/britishlibrary/ta...   \n",
       "\n",
       "                            Shelfmarks  \n",
       "0    British Library HMNTS 12641.b.30.  \n",
       "1    British Library HMNTS 12626.cc.2.  \n",
       "2    British Library HMNTS 12625.dd.1.  \n",
       "3  British Library HMNTS 10369.bbb.15.  \n",
       "4     British Library HMNTS 9007.d.28.  "
      ]
     },
     "execution_count": 2,
     "metadata": {},
     "output_type": "execute_result"
    }
   ],
   "source": [
    "df = pd.read_csv('/home/student/python-data-cleaning/datasets/british_library_books_images.csv')\n",
    "df.head()\n"
   ]
  },
  {
   "cell_type": "code",
   "execution_count": 3,
   "id": "17c318f5-41f6-4c2d-9d6f-0699b616e007",
   "metadata": {},
   "outputs": [],
   "source": [
    "to_drop = ['Edition Statement',\n",
    "           'Corporate Author',\n",
    "           'Corporate Contributors',\n",
    "           'Former owner',\n",
    "           'Engraver',\n",
    "           'Contributors',\n",
    "           'Issuance type',\n",
    "           'Shelfmarks']\n",
    "\n",
    "df.drop(to_drop, inplace=True, axis=1)\n"
   ]
  },
  {
   "cell_type": "code",
   "execution_count": 4,
   "id": "25e6f19c-2f3b-4b50-9d8f-21c7eb255f3a",
   "metadata": {},
   "outputs": [
    {
     "data": {
      "text/html": [
       "<div>\n",
       "<style scoped>\n",
       "    .dataframe tbody tr th:only-of-type {\n",
       "        vertical-align: middle;\n",
       "    }\n",
       "\n",
       "    .dataframe tbody tr th {\n",
       "        vertical-align: top;\n",
       "    }\n",
       "\n",
       "    .dataframe thead th {\n",
       "        text-align: right;\n",
       "    }\n",
       "</style>\n",
       "<table border=\"1\" class=\"dataframe\">\n",
       "  <thead>\n",
       "    <tr style=\"text-align: right;\">\n",
       "      <th></th>\n",
       "      <th>Identifier</th>\n",
       "      <th>Place of Publication</th>\n",
       "      <th>Date of Publication</th>\n",
       "      <th>Publisher</th>\n",
       "      <th>Title</th>\n",
       "      <th>Author</th>\n",
       "      <th>Flickr URL</th>\n",
       "    </tr>\n",
       "  </thead>\n",
       "  <tbody>\n",
       "    <tr>\n",
       "      <th>0</th>\n",
       "      <td>206</td>\n",
       "      <td>London</td>\n",
       "      <td>1879 [1878]</td>\n",
       "      <td>S. Tinsley &amp; Co.</td>\n",
       "      <td>Walter Forbes. [A novel.] By A. A</td>\n",
       "      <td>A. A.</td>\n",
       "      <td>http://www.flickr.com/photos/britishlibrary/ta...</td>\n",
       "    </tr>\n",
       "    <tr>\n",
       "      <th>1</th>\n",
       "      <td>216</td>\n",
       "      <td>London; Virtue &amp; Yorston</td>\n",
       "      <td>1868</td>\n",
       "      <td>Virtue &amp; Co.</td>\n",
       "      <td>All for Greed. [A novel. The dedication signed...</td>\n",
       "      <td>A., A. A.</td>\n",
       "      <td>http://www.flickr.com/photos/britishlibrary/ta...</td>\n",
       "    </tr>\n",
       "    <tr>\n",
       "      <th>2</th>\n",
       "      <td>218</td>\n",
       "      <td>London</td>\n",
       "      <td>1869</td>\n",
       "      <td>Bradbury, Evans &amp; Co.</td>\n",
       "      <td>Love the Avenger. By the author of “All for Gr...</td>\n",
       "      <td>A., A. A.</td>\n",
       "      <td>http://www.flickr.com/photos/britishlibrary/ta...</td>\n",
       "    </tr>\n",
       "    <tr>\n",
       "      <th>3</th>\n",
       "      <td>472</td>\n",
       "      <td>London</td>\n",
       "      <td>1851</td>\n",
       "      <td>James Darling</td>\n",
       "      <td>Welsh Sketches, chiefly ecclesiastical, to the...</td>\n",
       "      <td>A., E. S.</td>\n",
       "      <td>http://www.flickr.com/photos/britishlibrary/ta...</td>\n",
       "    </tr>\n",
       "    <tr>\n",
       "      <th>4</th>\n",
       "      <td>480</td>\n",
       "      <td>London</td>\n",
       "      <td>1857</td>\n",
       "      <td>Wertheim &amp; Macintosh</td>\n",
       "      <td>[The World in which I live, and my place in it...</td>\n",
       "      <td>A., E. S.</td>\n",
       "      <td>http://www.flickr.com/photos/britishlibrary/ta...</td>\n",
       "    </tr>\n",
       "  </tbody>\n",
       "</table>\n",
       "</div>"
      ],
      "text/plain": [
       "   Identifier      Place of Publication Date of Publication  \\\n",
       "0         206                    London         1879 [1878]   \n",
       "1         216  London; Virtue & Yorston                1868   \n",
       "2         218                    London                1869   \n",
       "3         472                    London                1851   \n",
       "4         480                    London                1857   \n",
       "\n",
       "               Publisher                                              Title  \\\n",
       "0       S. Tinsley & Co.                  Walter Forbes. [A novel.] By A. A   \n",
       "1           Virtue & Co.  All for Greed. [A novel. The dedication signed...   \n",
       "2  Bradbury, Evans & Co.  Love the Avenger. By the author of “All for Gr...   \n",
       "3          James Darling  Welsh Sketches, chiefly ecclesiastical, to the...   \n",
       "4   Wertheim & Macintosh  [The World in which I live, and my place in it...   \n",
       "\n",
       "      Author                                         Flickr URL  \n",
       "0      A. A.  http://www.flickr.com/photos/britishlibrary/ta...  \n",
       "1  A., A. A.  http://www.flickr.com/photos/britishlibrary/ta...  \n",
       "2  A., A. A.  http://www.flickr.com/photos/britishlibrary/ta...  \n",
       "3  A., E. S.  http://www.flickr.com/photos/britishlibrary/ta...  \n",
       "4  A., E. S.  http://www.flickr.com/photos/britishlibrary/ta...  "
      ]
     },
     "execution_count": 4,
     "metadata": {},
     "output_type": "execute_result"
    }
   ],
   "source": [
    "# the unwanted column data has been removed\n",
    "df.head()\n"
   ]
  },
  {
   "cell_type": "code",
   "execution_count": 5,
   "id": "2a3d95a1-11d0-4d50-b570-a949ffeca93b",
   "metadata": {},
   "outputs": [],
   "source": [
    "# same as  df.drop(to_drop, inplace=True, axis=1)\n",
    "# df.drop(columns=to_drop, inplace=True)\n"
   ]
  },
  {
   "cell_type": "code",
   "execution_count": 6,
   "id": "175c7d40-5587-4a9d-93df-225ce65874dd",
   "metadata": {},
   "outputs": [
    {
     "data": {
      "text/plain": [
       "True"
      ]
     },
     "execution_count": 6,
     "metadata": {},
     "output_type": "execute_result"
    }
   ],
   "source": [
    "df['Identifier'].is_unique\n"
   ]
  },
  {
   "cell_type": "code",
   "execution_count": 7,
   "id": "6e697310-5187-4c65-a3fa-c0870ce7d205",
   "metadata": {},
   "outputs": [
    {
     "data": {
      "text/html": [
       "<div>\n",
       "<style scoped>\n",
       "    .dataframe tbody tr th:only-of-type {\n",
       "        vertical-align: middle;\n",
       "    }\n",
       "\n",
       "    .dataframe tbody tr th {\n",
       "        vertical-align: top;\n",
       "    }\n",
       "\n",
       "    .dataframe thead th {\n",
       "        text-align: right;\n",
       "    }\n",
       "</style>\n",
       "<table border=\"1\" class=\"dataframe\">\n",
       "  <thead>\n",
       "    <tr style=\"text-align: right;\">\n",
       "      <th></th>\n",
       "      <th>Place of Publication</th>\n",
       "      <th>Date of Publication</th>\n",
       "      <th>Publisher</th>\n",
       "      <th>Title</th>\n",
       "      <th>Author</th>\n",
       "      <th>Flickr URL</th>\n",
       "    </tr>\n",
       "    <tr>\n",
       "      <th>Identifier</th>\n",
       "      <th></th>\n",
       "      <th></th>\n",
       "      <th></th>\n",
       "      <th></th>\n",
       "      <th></th>\n",
       "      <th></th>\n",
       "    </tr>\n",
       "  </thead>\n",
       "  <tbody>\n",
       "    <tr>\n",
       "      <th>206</th>\n",
       "      <td>London</td>\n",
       "      <td>1879 [1878]</td>\n",
       "      <td>S. Tinsley &amp; Co.</td>\n",
       "      <td>Walter Forbes. [A novel.] By A. A</td>\n",
       "      <td>A. A.</td>\n",
       "      <td>http://www.flickr.com/photos/britishlibrary/ta...</td>\n",
       "    </tr>\n",
       "    <tr>\n",
       "      <th>216</th>\n",
       "      <td>London; Virtue &amp; Yorston</td>\n",
       "      <td>1868</td>\n",
       "      <td>Virtue &amp; Co.</td>\n",
       "      <td>All for Greed. [A novel. The dedication signed...</td>\n",
       "      <td>A., A. A.</td>\n",
       "      <td>http://www.flickr.com/photos/britishlibrary/ta...</td>\n",
       "    </tr>\n",
       "    <tr>\n",
       "      <th>218</th>\n",
       "      <td>London</td>\n",
       "      <td>1869</td>\n",
       "      <td>Bradbury, Evans &amp; Co.</td>\n",
       "      <td>Love the Avenger. By the author of “All for Gr...</td>\n",
       "      <td>A., A. A.</td>\n",
       "      <td>http://www.flickr.com/photos/britishlibrary/ta...</td>\n",
       "    </tr>\n",
       "    <tr>\n",
       "      <th>472</th>\n",
       "      <td>London</td>\n",
       "      <td>1851</td>\n",
       "      <td>James Darling</td>\n",
       "      <td>Welsh Sketches, chiefly ecclesiastical, to the...</td>\n",
       "      <td>A., E. S.</td>\n",
       "      <td>http://www.flickr.com/photos/britishlibrary/ta...</td>\n",
       "    </tr>\n",
       "    <tr>\n",
       "      <th>480</th>\n",
       "      <td>London</td>\n",
       "      <td>1857</td>\n",
       "      <td>Wertheim &amp; Macintosh</td>\n",
       "      <td>[The World in which I live, and my place in it...</td>\n",
       "      <td>A., E. S.</td>\n",
       "      <td>http://www.flickr.com/photos/britishlibrary/ta...</td>\n",
       "    </tr>\n",
       "  </tbody>\n",
       "</table>\n",
       "</div>"
      ],
      "text/plain": [
       "                Place of Publication Date of Publication  \\\n",
       "Identifier                                                 \n",
       "206                           London         1879 [1878]   \n",
       "216         London; Virtue & Yorston                1868   \n",
       "218                           London                1869   \n",
       "472                           London                1851   \n",
       "480                           London                1857   \n",
       "\n",
       "                        Publisher  \\\n",
       "Identifier                          \n",
       "206              S. Tinsley & Co.   \n",
       "216                  Virtue & Co.   \n",
       "218         Bradbury, Evans & Co.   \n",
       "472                 James Darling   \n",
       "480          Wertheim & Macintosh   \n",
       "\n",
       "                                                        Title     Author  \\\n",
       "Identifier                                                                 \n",
       "206                         Walter Forbes. [A novel.] By A. A      A. A.   \n",
       "216         All for Greed. [A novel. The dedication signed...  A., A. A.   \n",
       "218         Love the Avenger. By the author of “All for Gr...  A., A. A.   \n",
       "472         Welsh Sketches, chiefly ecclesiastical, to the...  A., E. S.   \n",
       "480         [The World in which I live, and my place in it...  A., E. S.   \n",
       "\n",
       "                                                   Flickr URL  \n",
       "Identifier                                                     \n",
       "206         http://www.flickr.com/photos/britishlibrary/ta...  \n",
       "216         http://www.flickr.com/photos/britishlibrary/ta...  \n",
       "218         http://www.flickr.com/photos/britishlibrary/ta...  \n",
       "472         http://www.flickr.com/photos/britishlibrary/ta...  \n",
       "480         http://www.flickr.com/photos/britishlibrary/ta...  "
      ]
     },
     "execution_count": 7,
     "metadata": {},
     "output_type": "execute_result"
    }
   ],
   "source": [
    "df = df.set_index('Identifier')    # same as  df.set_index('Identifier', inplace=True)\n",
    "df.head()\n"
   ]
  },
  {
   "cell_type": "code",
   "execution_count": 8,
   "id": "94836f02-2e1c-4736-b11a-14e67dfb789b",
   "metadata": {},
   "outputs": [
    {
     "data": {
      "text/plain": [
       "Place of Publication                                               London\n",
       "Date of Publication                                           1879 [1878]\n",
       "Publisher                                                S. Tinsley & Co.\n",
       "Title                                   Walter Forbes. [A novel.] By A. A\n",
       "Author                                                              A. A.\n",
       "Flickr URL              http://www.flickr.com/photos/britishlibrary/ta...\n",
       "Name: 206, dtype: object"
      ]
     },
     "execution_count": 8,
     "metadata": {},
     "output_type": "execute_result"
    }
   ],
   "source": [
    "df.loc[206]\n"
   ]
  },
  {
   "cell_type": "code",
   "execution_count": 9,
   "id": "7deb3fb8-8941-4320-888f-fc69dff5d494",
   "metadata": {},
   "outputs": [
    {
     "data": {
      "text/plain": [
       "Place of Publication                                               London\n",
       "Date of Publication                                           1879 [1878]\n",
       "Publisher                                                S. Tinsley & Co.\n",
       "Title                                   Walter Forbes. [A novel.] By A. A\n",
       "Author                                                              A. A.\n",
       "Flickr URL              http://www.flickr.com/photos/britishlibrary/ta...\n",
       "Name: 206, dtype: object"
      ]
     },
     "execution_count": 9,
     "metadata": {},
     "output_type": "execute_result"
    }
   ],
   "source": [
    "df.iloc[0]\n"
   ]
  },
  {
   "cell_type": "code",
   "execution_count": 10,
   "id": "f58e2a77-b54c-4677-ba17-062386b4d53a",
   "metadata": {},
   "outputs": [
    {
     "data": {
      "text/plain": [
       "Identifier\n",
       "1905           1888\n",
       "1929    1839, 38-54\n",
       "2836           1897\n",
       "2854           1865\n",
       "2956        1860-63\n",
       "2957           1873\n",
       "3017           1866\n",
       "3131           1899\n",
       "4598           1814\n",
       "4884           1820\n",
       "Name: Date of Publication, dtype: object"
      ]
     },
     "execution_count": 10,
     "metadata": {},
     "output_type": "execute_result"
    }
   ],
   "source": [
    "# Start at the label 1905, include the column \"Date of Publication\" and list 10 rows\n",
    "df.loc[1905:, 'Date of Publication'].head(10)\n"
   ]
  },
  {
   "cell_type": "code",
   "execution_count": 11,
   "id": "9808ab25-1248-4c00-9956-dc8dc31198f2",
   "metadata": {},
   "outputs": [],
   "source": [
    "regex = r'^(\\d{4})'\n"
   ]
  },
  {
   "cell_type": "code",
   "execution_count": 12,
   "id": "6180d659-7590-4eec-abcc-8f9c69f41f37",
   "metadata": {},
   "outputs": [
    {
     "data": {
      "text/plain": [
       "Identifier\n",
       "206    1879\n",
       "216    1868\n",
       "218    1869\n",
       "472    1851\n",
       "480    1857\n",
       "Name: Date of Publication, dtype: object"
      ]
     },
     "execution_count": 12,
     "metadata": {},
     "output_type": "execute_result"
    }
   ],
   "source": [
    "extr = df['Date of Publication'].str.extract(r'^(\\d{4})', expand=False)\n",
    "extr.head()\n"
   ]
  },
  {
   "cell_type": "code",
   "execution_count": 13,
   "id": "44b0dfad-b8b5-4c4f-af70-f9d3f556336b",
   "metadata": {},
   "outputs": [
    {
     "data": {
      "text/plain": [
       "dtype('float64')"
      ]
     },
     "execution_count": 13,
     "metadata": {},
     "output_type": "execute_result"
    }
   ],
   "source": [
    "df['Date of Publication'] = pd.to_numeric(extr)\n",
    "df['Date of Publication'].dtype\n"
   ]
  },
  {
   "cell_type": "code",
   "execution_count": 14,
   "id": "3fad6229-c84d-45f1-ba24-5f4e805d04c9",
   "metadata": {},
   "outputs": [
    {
     "data": {
      "text/plain": [
       "1639.0848316640522"
      ]
     },
     "execution_count": 14,
     "metadata": {},
     "output_type": "execute_result"
    }
   ],
   "source": [
    "df['Date of Publication'].sum() / len(df)\n"
   ]
  },
  {
   "cell_type": "code",
   "execution_count": 15,
   "id": "7d122b50-eb00-4a1a-875b-fa852377daa7",
   "metadata": {},
   "outputs": [
    {
     "data": {
      "text/plain": [
       "Identifier\n",
       "206                                  London\n",
       "216                London; Virtue & Yorston\n",
       "218                                  London\n",
       "472                                  London\n",
       "480                                  London\n",
       "481                                  London\n",
       "519                                  London\n",
       "667     pp. 40. G. Bryan & Co: Oxford, 1898\n",
       "874                                 London]\n",
       "1143                                 London\n",
       "Name: Place of Publication, dtype: object"
      ]
     },
     "execution_count": 15,
     "metadata": {},
     "output_type": "execute_result"
    }
   ],
   "source": [
    "df['Place of Publication'].head(10)\n"
   ]
  },
  {
   "cell_type": "code",
   "execution_count": 16,
   "id": "86254825-b904-4a74-96c6-319b95d88a91",
   "metadata": {},
   "outputs": [
    {
     "data": {
      "text/plain": [
       "Place of Publication                                  Newcastle-upon-Tyne\n",
       "Date of Publication                                                1867.0\n",
       "Publisher                                                      T. Fordyce\n",
       "Title                   Local Records; or, Historical Register of rema...\n",
       "Author                      FORDYCE, T. - Printer, of Newcastle-upon-Tyne\n",
       "Flickr URL              http://www.flickr.com/photos/britishlibrary/ta...\n",
       "Name: 4157862, dtype: object"
      ]
     },
     "execution_count": 16,
     "metadata": {},
     "output_type": "execute_result"
    }
   ],
   "source": [
    "df.loc[4157862]\n"
   ]
  },
  {
   "cell_type": "code",
   "execution_count": 17,
   "id": "9a2403f2-f8ae-4cab-95d8-5bdbb188df2f",
   "metadata": {},
   "outputs": [
    {
     "data": {
      "text/plain": [
       "Place of Publication                                  Newcastle upon Tyne\n",
       "Date of Publication                                                1834.0\n",
       "Publisher                                                Mackenzie & Dent\n",
       "Title                   An historical, topographical and descriptive v...\n",
       "Author                                              Mackenzie, E. (Eneas)\n",
       "Flickr URL              http://www.flickr.com/photos/britishlibrary/ta...\n",
       "Name: 4159587, dtype: object"
      ]
     },
     "execution_count": 17,
     "metadata": {},
     "output_type": "execute_result"
    }
   ],
   "source": [
    "df.loc[4159587]\n"
   ]
  },
  {
   "cell_type": "code",
   "execution_count": 18,
   "id": "4b9e90fd-256a-4f2e-a1c5-70e673f8877f",
   "metadata": {},
   "outputs": [
    {
     "name": "stderr",
     "output_type": "stream",
     "text": [
      "/tmp/ipykernel_10441/1650521075.py:3: FutureWarning: The behavior of `series[i:j]` with an integer-dtype index is deprecated. In a future version, this will be treated as *label-based* indexing, consistent with e.g. `series[i]` lookups. To retain the old behavior, use `series.iloc[i:j]`. To get the future behavior, use `series.loc[i:j]`.\n",
      "  london[:5]   # return the first 5 results\n"
     ]
    }
   ],
   "source": [
    "pub = df['Place of Publication']\n",
    "london = pub.str.contains('London')  # this is parts of the dataframe that contain \"London\"\n",
    "london[:5]   # return the first 5 results\n",
    "\n",
    "oxford = pub.str.contains('Oxford')  # this is part of the dataframe that contain \"Oxford\"\n"
   ]
  },
  {
   "cell_type": "code",
   "execution_count": 20,
   "id": "5c1b0e5f-b44f-49a1-98b4-0db5820eef66",
   "metadata": {},
   "outputs": [],
   "source": [
    "df['Place of Publication'] = np.where(london, 'London',          # if row is in london then replace with \"London\", else\n",
    "                                      np.where(oxford, 'Oxford', # if row is in oxford then replace with \"Oxford\", else\n",
    "                                               pub.str.replace('-', ' ')))   # if string has \"-\" replace with \" \"\n"
   ]
  },
  {
   "cell_type": "code",
   "execution_count": 21,
   "id": "7a123294-f3c9-43cb-a015-79db7cbcbdfc",
   "metadata": {},
   "outputs": [
    {
     "data": {
      "text/plain": [
       "Identifier\n",
       "206    London\n",
       "216    London\n",
       "218    London\n",
       "472    London\n",
       "480    London\n",
       "Name: Place of Publication, dtype: object"
      ]
     },
     "execution_count": 21,
     "metadata": {},
     "output_type": "execute_result"
    }
   ],
   "source": [
    "df['Place of Publication'].head()\n"
   ]
  },
  {
   "cell_type": "code",
   "execution_count": 22,
   "id": "bbcba811-e739-49b9-90ed-65a229744358",
   "metadata": {},
   "outputs": [
    {
     "data": {
      "text/plain": [
       "Identifier\n",
       "206    London\n",
       "216    London\n",
       "218    London\n",
       "472    London\n",
       "480    London\n",
       "Name: Place of Publication, dtype: object"
      ]
     },
     "execution_count": 22,
     "metadata": {},
     "output_type": "execute_result"
    }
   ],
   "source": [
    "df['Place of Publication'].head()\n"
   ]
  },
  {
   "cell_type": "code",
   "execution_count": null,
   "id": "985a4a5c-8021-498e-8252-e52e45f93695",
   "metadata": {},
   "outputs": [],
   "source": []
  }
 ],
 "metadata": {
  "kernelspec": {
   "display_name": "Python 3 (ipykernel)",
   "language": "python",
   "name": "python3"
  },
  "language_info": {
   "codemirror_mode": {
    "name": "ipython",
    "version": 3
   },
   "file_extension": ".py",
   "mimetype": "text/x-python",
   "name": "python",
   "nbconvert_exporter": "python",
   "pygments_lexer": "ipython3",
   "version": "3.10.6"
  }
 },
 "nbformat": 4,
 "nbformat_minor": 5
}
