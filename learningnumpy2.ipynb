{
 "cells": [
  {
   "cell_type": "code",
   "execution_count": 1,
   "id": "6568fd85-8de8-4f61-8992-ed85494efb08",
   "metadata": {},
   "outputs": [
    {
     "name": "stdout",
     "output_type": "stream",
     "text": [
      "Array A has a shape of: (3,)\n",
      "Array A has dimension: 1\n"
     ]
    }
   ],
   "source": [
    "import numpy as np\n",
    "\n",
    "A = np.array([2.4, 6.7, 7.9])\n",
    "print(\"Array A has a shape of:\", A.shape) # shape returns a tuple of rows, cols \n",
    "print(\"Array A has dimension:\", A.ndim) # ndim returns an integer representing the dimensions\n"
   ]
  },
  {
   "cell_type": "code",
   "execution_count": 2,
   "id": "e4b02ef2-9408-4bdb-a06a-f58784cfe5b3",
   "metadata": {},
   "outputs": [
    {
     "name": "stdout",
     "output_type": "stream",
     "text": [
      "Array A has a shape of: (1, 3)\n",
      "Array A has dimension: 2\n"
     ]
    }
   ],
   "source": [
    "import numpy as np\n",
    "\n",
    "A = np.array([[2.4, 6.7, 7.9]])\n",
    "print(\"Array A has a shape of:\", A.shape) # shape returns a tuple of rows, cols \n",
    "print(\"Array A has dimension:\", A.ndim) # ndim returns an integer representing the dimensions\n"
   ]
  },
  {
   "cell_type": "code",
   "execution_count": 3,
   "id": "6e58cd05-dd2c-4662-9740-cf1b9c67dd07",
   "metadata": {},
   "outputs": [
    {
     "data": {
      "text/plain": [
       "1.1"
      ]
     },
     "execution_count": 3,
     "metadata": {},
     "output_type": "execute_result"
    }
   ],
   "source": [
    "A = np.array([ [2.4, 6.7, 7.9], # double brackets, so this is row 0\n",
    "             [1.1, -7.8, -0.7], # row 1\n",
    "             [4.1, 12.3, 4.8]]) # row 2\n",
    "A[1,0] # index A at row 1, col 0 (can also index using chained indexing: A[1][0]) \n"
   ]
  },
  {
   "cell_type": "code",
   "execution_count": 4,
   "id": "52129faf-0aaf-40d6-a001-40d0feaf4ed9",
   "metadata": {},
   "outputs": [
    {
     "data": {
      "text/plain": [
       "array([2.4, 6.7, 7.9])"
      ]
     },
     "execution_count": 4,
     "metadata": {},
     "output_type": "execute_result"
    }
   ],
   "source": [
    "A[0,:] # grab all of row 0\n"
   ]
  },
  {
   "cell_type": "code",
   "execution_count": 5,
   "id": "2ba9e503-9788-480d-a23e-46699c572688",
   "metadata": {},
   "outputs": [
    {
     "data": {
      "text/plain": [
       "array([2.4, 1.1, 4.1])"
      ]
     },
     "execution_count": 5,
     "metadata": {},
     "output_type": "execute_result"
    }
   ],
   "source": [
    "A[:,0] # grab all of col 0\n"
   ]
  },
  {
   "cell_type": "code",
   "execution_count": 6,
   "id": "15210c97-fea1-4d58-9999-189e6b1d1791",
   "metadata": {},
   "outputs": [
    {
     "data": {
      "text/plain": [
       "array([[13, 14, 15],\n",
       "       [23, 24, 25],\n",
       "       [33, 34, 35]])"
      ]
     },
     "execution_count": 6,
     "metadata": {},
     "output_type": "execute_result"
    }
   ],
   "source": [
    "A = np.array([\n",
    "[11, 12, 13, 14, 15], # row 0\n",
    "[21, 22, 23, 24, 25], # row 1\n",
    "[31, 32, 33, 34, 35], # row 2\n",
    "[41, 42, 43, 44, 45], # row 3\n",
    "[51, 52, 53, 54, 55]]) # row 4\n",
    "\n",
    "A[:3, 2:] # first argument :3 slices rows 0-2, second argument 2: slices cols 2-end of array\n"
   ]
  },
  {
   "cell_type": "code",
   "execution_count": 7,
   "id": "8dea4d12-3055-41b0-a0a5-b55f57c7b758",
   "metadata": {},
   "outputs": [
    {
     "data": {
      "text/plain": [
       "array([[41, 42, 43, 44, 45],\n",
       "       [51, 52, 53, 54, 55]])"
      ]
     },
     "execution_count": 7,
     "metadata": {},
     "output_type": "execute_result"
    }
   ],
   "source": [
    "A[3:, :]\n"
   ]
  },
  {
   "cell_type": "code",
   "execution_count": 9,
   "id": "a0e7185f-1eed-415e-b2bb-8e13cbe0d21a",
   "metadata": {},
   "outputs": [
    {
     "data": {
      "text/plain": [
       "array([[15],\n",
       "       [25],\n",
       "       [35],\n",
       "       [45],\n",
       "       [55]])"
      ]
     },
     "execution_count": 9,
     "metadata": {},
     "output_type": "execute_result"
    }
   ],
   "source": [
    "A[:, 4:]\n"
   ]
  },
  {
   "cell_type": "code",
   "execution_count": 12,
   "id": "c1d408e4-875e-49f3-bf3e-3f6893581c02",
   "metadata": {},
   "outputs": [
    {
     "data": {
      "text/plain": [
       "array([[11, 14],\n",
       "       [31, 34],\n",
       "       [51, 54]])"
      ]
     },
     "execution_count": 12,
     "metadata": {},
     "output_type": "execute_result"
    }
   ],
   "source": [
    "A[::2, ::3] # ::2 starts at row 0 through the end of the array, skipping over every other row, and ::3 starts at col 0 through the end of the array, grabbing every third entry\n"
   ]
  },
  {
   "cell_type": "code",
   "execution_count": 13,
   "id": "f1d0665c-9a88-4d6a-bd36-8c5d6f81dd8a",
   "metadata": {},
   "outputs": [
    {
     "data": {
      "text/plain": [
       "array([ 0,  1,  2,  3,  4,  5,  6,  7,  8,  9, 10, 11, 12, 13, 14, 15, 16,\n",
       "       17, 18, 19, 20, 21, 22, 23, 24, 25, 26, 27])"
      ]
     },
     "execution_count": 13,
     "metadata": {},
     "output_type": "execute_result"
    }
   ],
   "source": [
    "X=np.arange(28)\n",
    "X\n"
   ]
  },
  {
   "cell_type": "code",
   "execution_count": 14,
   "id": "522e7906-28fe-41d0-9e9b-a90aebb14eaa",
   "metadata": {},
   "outputs": [
    {
     "name": "stdout",
     "output_type": "stream",
     "text": [
      "(28,)\n",
      "1\n"
     ]
    }
   ],
   "source": [
    "print(X.shape)\n",
    "print(X.ndim)\n"
   ]
  },
  {
   "cell_type": "code",
   "execution_count": 15,
   "id": "db739a77-b19d-43cb-bb98-b1af8784491f",
   "metadata": {},
   "outputs": [
    {
     "data": {
      "text/plain": [
       "array([[ 0,  1,  2,  3,  4,  5,  6],\n",
       "       [ 7,  8,  9, 10, 11, 12, 13],\n",
       "       [14, 15, 16, 17, 18, 19, 20],\n",
       "       [21, 22, 23, 24, 25, 26, 27]])"
      ]
     },
     "execution_count": 15,
     "metadata": {},
     "output_type": "execute_result"
    }
   ],
   "source": [
    "X.reshape(4,7)\n"
   ]
  },
  {
   "cell_type": "code",
   "execution_count": 16,
   "id": "f323246f-ac5d-40fe-a9f6-33d8933e4fd1",
   "metadata": {},
   "outputs": [
    {
     "data": {
      "text/plain": [
       "array([[ 0,  1,  2,  3,  4,  5,  6,  7,  8,  9, 10, 11, 12, 13],\n",
       "       [14, 15, 16, 17, 18, 19, 20, 21, 22, 23, 24, 25, 26, 27]])"
      ]
     },
     "execution_count": 16,
     "metadata": {},
     "output_type": "execute_result"
    }
   ],
   "source": [
    "X.reshape(2,14)\n"
   ]
  },
  {
   "cell_type": "code",
   "execution_count": 17,
   "id": "e1a7fa40-9002-48b7-9534-b3f334643edc",
   "metadata": {},
   "outputs": [
    {
     "ename": "ValueError",
     "evalue": "cannot reshape array of size 28 into shape (5,5)",
     "output_type": "error",
     "traceback": [
      "\u001b[0;31m---------------------------------------------------------------------------\u001b[0m",
      "\u001b[0;31mValueError\u001b[0m                                Traceback (most recent call last)",
      "Cell \u001b[0;32mIn [17], line 1\u001b[0m\n\u001b[0;32m----> 1\u001b[0m \u001b[43mX\u001b[49m\u001b[38;5;241;43m.\u001b[39;49m\u001b[43mreshape\u001b[49m\u001b[43m(\u001b[49m\u001b[38;5;241;43m5\u001b[39;49m\u001b[43m,\u001b[49m\u001b[38;5;241;43m5\u001b[39;49m\u001b[43m)\u001b[49m\n",
      "\u001b[0;31mValueError\u001b[0m: cannot reshape array of size 28 into shape (5,5)"
     ]
    }
   ],
   "source": [
    "X.reshape(5,5)\n"
   ]
  },
  {
   "cell_type": "code",
   "execution_count": null,
   "id": "dd03c913-7107-4c19-b58c-e0804e7519a0",
   "metadata": {},
   "outputs": [],
   "source": []
  }
 ],
 "metadata": {
  "kernelspec": {
   "display_name": "Python 3 (ipykernel)",
   "language": "python",
   "name": "python3"
  },
  "language_info": {
   "codemirror_mode": {
    "name": "ipython",
    "version": 3
   },
   "file_extension": ".py",
   "mimetype": "text/x-python",
   "name": "python",
   "nbconvert_exporter": "python",
   "pygments_lexer": "ipython3",
   "version": "3.10.6"
  }
 },
 "nbformat": 4,
 "nbformat_minor": 5
}
