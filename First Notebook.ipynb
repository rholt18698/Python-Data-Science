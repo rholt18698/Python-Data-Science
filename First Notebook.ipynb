{
 "cells": [
  {
   "cell_type": "code",
   "execution_count": 2,
   "id": "7fdcf172-eafe-4bf8-a447-f8bdd03dce66",
   "metadata": {},
   "outputs": [
    {
     "name": "stdout",
     "output_type": "stream",
     "text": [
      "hello\n"
     ]
    }
   ],
   "source": [
    "print(\"hello\")\n"
   ]
  },
  {
   "cell_type": "code",
   "execution_count": null,
   "id": "217c83d3-cda5-4e99-9a22-10a8ecea92a6",
   "metadata": {},
   "outputs": [],
   "source": []
  },
  {
   "cell_type": "code",
   "execution_count": null,
   "id": "131a3270-0127-4d94-94bd-83b9f8ae8c17",
   "metadata": {},
   "outputs": [],
   "source": []
  },
  {
   "cell_type": "markdown",
   "id": "f12e0772-8714-4e73-9e9a-a3fb79f1b731",
   "metadata": {},
   "source": [
    "#Learning Juniper notebook\n",
    "- Where to *click*\n",
    "= How to **execute** code"
   ]
  },
  {
   "cell_type": "code",
   "execution_count": null,
   "id": "c87ceba5-9bf7-4a6b-a580-c155a16da3b4",
   "metadata": {},
   "outputs": [],
   "source": []
  }
 ],
 "metadata": {
  "kernelspec": {
   "display_name": "Python 3 (ipykernel)",
   "language": "python",
   "name": "python3"
  },
  "language_info": {
   "codemirror_mode": {
    "name": "ipython",
    "version": 3
   },
   "file_extension": ".py",
   "mimetype": "text/x-python",
   "name": "python",
   "nbconvert_exporter": "python",
   "pygments_lexer": "ipython3",
   "version": "3.10.6"
  }
 },
 "nbformat": 4,
 "nbformat_minor": 5
}
